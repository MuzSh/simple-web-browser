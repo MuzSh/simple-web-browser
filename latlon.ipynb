{
 "cells": [
  {
   "cell_type": "code",
   "execution_count": null,
   "metadata": {},
   "outputs": [],
   "source": [
    "from geopy.geocoders import Nominatim\n",
    "\n",
    "inp = input(\"enter \")\n",
    "\n",
    "#arcgis parser\n",
    "geolocator = Nominatim(user_agent=\"my_user_agent\")\n",
    "\n",
    "# parse(\"     ------------- LAT, LONG INFO  ------------- \")\n",
    "loc = geolocator.geocode(inp)\n",
    "print(\"latitude is :\" ,loc.latitude,\"\\nlongtitude is:\" ,loc.longitude)\n",
    "lat = loc.latitude\n",
    "lon = loc.longitude\n",
    "\n",
    "variant = 0.001\n",
    "latF = lat+variant\n",
    "lonF = lon+variant\n",
    "latS = lat-variant"
   ]
  }
 ],
 "metadata": {
  "kernelspec": {
   "display_name": "Python 3",
   "language": "python",
   "name": "python3"
  },
  "language_info": {
   "codemirror_mode": {
    "name": "ipython",
    "version": 3
   },
   "file_extension": ".py",
   "mimetype": "text/x-python",
   "name": "python",
   "nbconvert_exporter": "python",
   "pygments_lexer": "ipython3",
   "version": "3.10.9 (tags/v3.10.9:1dd9be6, Dec  6 2022, 20:01:21) [MSC v.1934 64 bit (AMD64)]"
  },
  "orig_nbformat": 4,
  "vscode": {
   "interpreter": {
    "hash": "33ca65a2c0baff120ed6b20263f1513d498f71edf5dada10378e62b176e6e16c"
   }
  }
 },
 "nbformat": 4,
 "nbformat_minor": 2
}
